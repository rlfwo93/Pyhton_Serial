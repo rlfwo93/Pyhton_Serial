{
  "nbformat": 4,
  "nbformat_minor": 0,
  "metadata": {
    "colab": {
      "name": "Untitled83.ipynb",
      "provenance": [],
      "authorship_tag": "ABX9TyPKx1oc1IXGkSZPy43Yrn7+",
      "include_colab_link": true
    },
    "kernelspec": {
      "name": "python3",
      "display_name": "Python 3"
    },
    "language_info": {
      "name": "python"
    }
  },
  "cells": [
    {
      "cell_type": "markdown",
      "metadata": {
        "id": "view-in-github",
        "colab_type": "text"
      },
      "source": [
        "<a href=\"https://colab.research.google.com/github/rlfwo93/Python_Serial/blob/main/total_3.ipynb\" target=\"_parent\"><img src=\"https://colab.research.google.com/assets/colab-badge.svg\" alt=\"Open In Colab\"/></a>"
      ]
    },
    {
      "cell_type": "code",
      "metadata": {
        "id": "h8d3aYjjVgl_"
      },
      "source": [
        "import os\n",
        "import sys\n",
        "\n",
        "import numpy as np\n",
        "from PyQt5 import uic, QtWidgets\n",
        "import geopandas as gpd\n",
        "import matplotlib.pyplot as plt\n",
        "from PyQt5 import uic\n",
        "from PyQt5.QtGui import QPixmap\n",
        "from PyQt5.QtWidgets import QMainWindow, QWidget, QApplication, QLabel\n",
        "\n",
        "# def resource_path(relative_path):\n",
        "#     \"\"\" Get absolute path to resource, works for dev and for PyInstaller \"\"\"\n",
        "#     base_path = getattr(sys, '_MEIPASS', os.path.dirname(os.path.abspath(__file__)))\n",
        "#     return os.path.join(base_path, relative_path)\n",
        "\n",
        "\n",
        "form = ('C:/Users/User/Desktop/pratice.ui')  # ui만들고 수정\n",
        "form_class = uic.loadUiType(form)[0]\n",
        "\n",
        "\n",
        "class MyApp(QMainWindow, form_class):\n",
        "\n",
        "    def __init__(self):\n",
        "        super().__init__()\n",
        "        self.setupUi(self)\n",
        "        self.initUI()\n",
        "\n",
        "    def initUI(self):\n",
        "        self.setGeometry(100, 200, 200, 100)\n",
        "        self.resize(500, 500)\n",
        "        self.setWindowTitle(\"Geo\")\n",
        "\n",
        "    def FileOpenButton(self):\n",
        "        label1 = QLabel(self)\n",
        "        filename = QtWidgets.QFileDialog.getOpenFileName(self, 'Open File') #튜플 형식으로 반환 [0] 선택한 파일 [1] 옵션\n",
        "        geo_fileR = gpd.read_file(filename[0])\n",
        "        gep = geo_fileR.plot()\n",
        "        gep_f = gep.get_figure()\n",
        "        gep_f.set_size_inches(13, 13)\n",
        "        gep_f.savefig(\"C:/Users/USER/Desktop/훗.JPG\")\n",
        "        pixmap = QPixmap(\"C:/Users/USER/Desktop/아웃.JPG\")\n",
        "        label1.setPixmap(pixmap)\n",
        "\n",
        "    def GPSButton(self):\n",
        "        pass\n",
        "\n",
        "    def CloseButton(self):\n",
        "        pass\n",
        "\n",
        "\n",
        "class newApp(QWidget):\n",
        "\n",
        "    def __init__(self):\n",
        "        super().__init__()\n",
        "        self.newUI()\n",
        "\n",
        "    def newUI(self):\n",
        "        self.QDisetGeometry(100, 200, 200, 100)\n",
        "        self.resize(1500, 1000)\n",
        "        self.setWindowTitle(\"QDialog\")\n",
        "\n",
        "\n",
        "if __name__ == \"__main__\":\n",
        "    app = QApplication(sys.argv)\n",
        "    MA = MyApp()\n",
        "    MA.show()\n",
        "    sys.exit(app.exec_())  # exec이 무한루프로 작성, 종료되면 0을 리턴 exit는 0을받고 루프 탈퇴"
      ],
      "execution_count": null,
      "outputs": []
    }
  ]
}