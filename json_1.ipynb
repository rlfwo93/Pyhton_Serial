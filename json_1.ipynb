{
 "cells": [
  {
   "cell_type": "code",
   "execution_count": 109,
   "id": "8cb05726",
   "metadata": {},
   "outputs": [],
   "source": [
    "import json\n",
    "import geopandas as gpd"
   ]
  },
  {
   "cell_type": "code",
   "execution_count": 91,
   "id": "522aa081",
   "metadata": {},
   "outputs": [
    {
     "data": {
      "text/plain": [
       "'[\"X\", \"Y\", \"Z\", \"X\", \"Y\", \"Z\", \"X\", \"Y\", \"Z\", \"X\", \"Y\", \"Z\", \"X\", \"Y\", \"Z\", \"X\", \"Y\", \"Z\", \"X\", \"Y\", \"Z\", \"X\", \"Y\", \"Z\", \"X\", \"Y\", \"Z\", \"X\", \"Y\", \"Z\", \"X\", \"Y\", \"Z\", \"X\", \"Y\", \"Z\", \"X\", \"Y\", \"Z\", \"X\", \"Y\", \"Z\", \"X\", \"Y\", \"Z\", \"X\", \"Y\", \"Z\", \"X\", \"Y\", \"Z\", \"X\", \"Y\", \"Z\", \"X\", \"Y\", \"Z\", \"X\", \"Y\", \"Z\", \"X\", \"Y\", \"Z\", \"X\", \"Y\", \"Z\", \"X\", \"Y\", \"Z\", \"X\", \"Y\", \"Z\", \"X\", \"Y\", \"Z\", \"X\", \"Y\", \"Z\", \"X\", \"Y\", \"Z\", \"X\", \"Y\", \"Z\", \"X\", \"Y\", \"Z\", \"X\", \"Y\", \"Z\", \"X\", \"Y\", \"Z\", \"X\", \"Y\", \"Z\", \"X\", \"Y\", \"Z\", \"X\", \"Y\", \"Z\", \"X\", \"Y\", \"Z\"]'"
      ]
     },
     "execution_count": 91,
     "metadata": {},
     "output_type": "execute_result"
    }
   ],
   "source": [
    "# link파일 읽어오기\n",
    "\n",
    "with open(\"C:/Users/ParkJinSeok/Desktop/지도샘플/점,면,선/link.txt\",\"r\") as m:\n",
    "    ln = m.readlines()\n",
    "    \n",
    "        \n",
    "\n",
    "for i in range(len(ln)):\n",
    "    ln[i] = ln[i][:len(ln[i])-2]\n",
    "\n",
    "\n",
    "    \n",
    "#link 키,벨류값 추출\n",
    "\n",
    "link_kv = []\n",
    "link_vv = []\n",
    "\n",
    "for i in range(len(ln)):\n",
    "    link_kv.append(ln[i][0])\n",
    "    link_vv.append(float(ln[i][4:]))\n",
    "    \n",
    "\n",
    "kv = json.dumps(link_kv)"
   ]
  },
  {
   "cell_type": "code",
   "execution_count": 55,
   "id": "8307b73d",
   "metadata": {},
   "outputs": [
    {
     "data": {
      "text/plain": [
       "'3'"
      ]
     },
     "execution_count": 55,
     "metadata": {},
     "output_type": "execute_result"
    }
   ],
   "source": [
    "dic = ?"
   ]
  },
  {
   "cell_type": "code",
   "execution_count": 96,
   "id": "932b5fe1",
   "metadata": {},
   "outputs": [],
   "source": [
    "\n",
    "\n"
   ]
  },
  {
   "cell_type": "code",
   "execution_count": 100,
   "id": "637e102e",
   "metadata": {},
   "outputs": [
    {
     "data": {
      "text/plain": [
       "'message'"
      ]
     },
     "execution_count": 100,
     "metadata": {},
     "output_type": "execute_result"
    }
   ],
   "source": [
    "msg['type']"
   ]
  },
  {
   "cell_type": "code",
   "execution_count": 105,
   "id": "c1530c97",
   "metadata": {},
   "outputs": [
    {
     "data": {
      "text/plain": [
       "'application/vnd.microsoft.card.adaptive'"
      ]
     },
     "execution_count": 105,
     "metadata": {},
     "output_type": "execute_result"
    }
   ],
   "source": [
    "msg['attachments'][0][]"
   ]
  },
  {
   "cell_type": "code",
   "execution_count": null,
   "id": "46fc8e54",
   "metadata": {},
   "outputs": [],
   "source": [
    "\"coordinates\": [344272.812396  , 4041070.301697]\n",
    "    [344272.586096 , 4041070.326197], [344272.352896, 4041070.362197], [344232.256896, 4041086.306597], [344232.871695, 4041086.055397]\n",
    "        ]"
   ]
  },
  {
   "cell_type": "code",
   "execution_count": 116,
   "id": "103b637d",
   "metadata": {},
   "outputs": [],
   "source": [
    "with open(\"C:/Users/ParkJinSeok/Desktop/지도샘플/sam.geojson\",\"w\") as ss:\n",
    "    ss.write(\"\"\"\n",
    "    \n",
    "    \n",
    "    {\n",
    "  \"type\": \"FeatureCollection\",\n",
    "  \"features\": [\n",
    "    {\n",
    "      \"type\": \"Feature\",\n",
    "      \"geometry\": {\n",
    "        \"type\": \"Point\",\n",
    "        \"coordinates\": [344272.812396  , 4041070.301697]\n",
    "      },\n",
    "      \"properties\": {\n",
    "        \"prop0\": \"value0\"\n",
    "      }\n",
    "    },\n",
    "    {\n",
    "      \"type\": \"Feature\",\n",
    "      \"geometry\": {\n",
    "        \"type\": \"LineString\",\n",
    "        \"coordinates\": [\n",
    "          [344272.586096 , 4041070.326197], [344272.352896, 4041070.362197], [344232.256896, 4041086.306597], [344232.871695, 4041086.055397]\n",
    "        ]\n",
    "      },\n",
    "      \"properties\": {\n",
    "        \"prop0\": \"value0\",\n",
    "        \"prop1\": 0.0\n",
    "      }\n",
    "    },\n",
    "    {\n",
    "      \"type\": \"Feature\",\n",
    "      \"geometry\": {\n",
    "        \"type\": \"Polygon\",\n",
    "        \"coordinates\": [\n",
    "          [\n",
    "            [344271.986796 , 4041070.453097], [344271.628996, 4041070.561097], [344271.442995 , 4041070.620597],\n",
    "            [344236.399695, 4041084.644397], [344237.957495, ]\n",
    "          ]\n",
    "        ]\n",
    "      },\n",
    "      \"properties\": {\n",
    "        \"prop0\": \"value0\",\n",
    "        \"prop1\": { \"this\": \"that\" }\n",
    "      }\n",
    "    }\n",
    "  ]\n",
    "}\n",
    "    \n",
    "    \"\"\")"
   ]
  },
  {
   "cell_type": "code",
   "execution_count": 117,
   "id": "32e94f74",
   "metadata": {},
   "outputs": [
    {
     "data": {
      "text/plain": [
       "<AxesSubplot:>"
      ]
     },
     "execution_count": 117,
     "metadata": {},
     "output_type": "execute_result"
    },
    {
     "data": {
      "image/png": "[encoded data removed]",
      "text/plain": [
       "<Figure size 432x288 with 1 Axes>"
      ]
     },
     "metadata": {
      "needs_background": "light"
     },
     "output_type": "display_data"
    }
   ],
   "source": [
    "df = gpd.read_file('C:/Users/ParkJinSeok/Desktop/지도샘플/sam.geojson')\n",
    "\n",
    "df.plot()"
   ]
  },
  {
   "cell_type": "code",
   "execution_count": null,
   "id": "4ad16a79",
   "metadata": {},
   "outputs": [],
   "source": []
  },
  {
   "cell_type": "code",
   "execution_count": null,
   "id": "d0a58261",
   "metadata": {},
   "outputs": [],
   "source": []
  },
  {
   "cell_type": "code",
   "execution_count": null,
   "id": "de50ee8f",
   "metadata": {},
   "outputs": [],
   "source": []
  },
  {
   "cell_type": "code",
   "execution_count": null,
   "id": "7e720365",
   "metadata": {},
   "outputs": [],
   "source": []
  },
  {
   "cell_type": "code",
   "execution_count": null,
   "id": "9781384b",
   "metadata": {},
   "outputs": [],
   "source": []
  },
  {
   "cell_type": "code",
   "execution_count": null,
   "id": "c53545e8",
   "metadata": {},
   "outputs": [],
   "source": []
  },
  {
   "cell_type": "code",
   "execution_count": null,
   "id": "878f0ff6",
   "metadata": {},
   "outputs": [],
   "source": []
  }
 ],
 "metadata": {
  "kernelspec": {
   "display_name": "Python 3",
   "language": "python",
   "name": "python3"
  },
  "language_info": {
   "codemirror_mode": {
    "name": "ipython",
    "version": 3
   },
   "file_extension": ".py",
   "mimetype": "text/x-python",
   "name": "python",
   "nbconvert_exporter": "python",
   "pygments_lexer": "ipython3",
   "version": "3.8.8"
  }
 },
 "nbformat": 4,
 "nbformat_minor": 5
}
