{
  "nbformat": 4,
  "nbformat_minor": 0,
  "metadata": {
    "colab": {
      "name": "Untitled82.ipynb",
      "provenance": [],
      "authorship_tag": "ABX9TyN+rYunCP+SMU6DcIMwkJNK",
      "include_colab_link": true
    },
    "kernelspec": {
      "name": "python3",
      "display_name": "Python 3"
    },
    "language_info": {
      "name": "python"
    }
  },
  "cells": [
    {
      "cell_type": "markdown",
      "metadata": {
        "id": "view-in-github",
        "colab_type": "text"
      },
      "source": [
        "<a href=\"https://colab.research.google.com/github/rlfwo93/Python_Serial/blob/main/pyqt5.ipynb\" target=\"_parent\"><img src=\"https://colab.research.google.com/assets/colab-badge.svg\" alt=\"Open In Colab\"/></a>"
      ]
    },
    {
      "cell_type": "code",
      "metadata": {
        "id": "ngA8pobXYDnG"
      },
      "source": [
        "import os\n",
        "import sys\n",
        "\n",
        "import numpy as np\n",
        "import geopandas as gpd\n",
        "import matplotlib.pyplot as plt\n",
        "from PyQt5 import uic\n",
        "from PyQt5.QtWidgets import QMainWindow, QWidget, QApplication\n",
        "\n",
        "\n",
        "def resource_path(relative_path):\n",
        "    \"\"\" Get absolute path to resource, works for dev and for PyInstaller \"\"\"\n",
        "    base_path = getattr(sys, '_MEIPASS', os.path.dirname(os.path.abspath(__file__)))\n",
        "    return os.path.join(base_path, relative_path)\n",
        "\n",
        "\n",
        "form = resource_path('C:/Users/USER/PycharmProjects/pythonProject1/total_1.ui') #ui만들고 수정\n",
        "form_class = uic.loadUiType(form)[0]\n",
        "\n",
        "\n",
        "class MyApp(QMainWindow,form_class):\n",
        "\n",
        "    def __init__(self):\n",
        "        super().__init__()\n",
        "        self.setupUi(self)\n",
        "        self.initUI()\n",
        "\n",
        "\n",
        "\n",
        "    def initUI(self):\n",
        "\n",
        "        self.setGeometry(100,200,200,100)\n",
        "        self.resize(500,500)\n",
        "        self.setWindowTitle(\"Geo\")\n",
        "\n",
        "\n",
        "\n",
        "\n",
        "    def FileOpenButton(self):\n",
        "        pass\n",
        "\n",
        "    def GPSButton(self):\n",
        "        pass\n",
        "\n",
        "    def closeButton(self):\n",
        "        pass\n",
        "\n",
        "\n",
        "class newApp(QWidget):\n",
        "\n",
        "    def __init__(self):\n",
        "        super().__init__()\n",
        "        self.newUI()\n",
        "\n",
        "    def newUI(self):\n",
        "        pass\n",
        "\n",
        "\n",
        "if __name__ == \"__main__\":\n",
        "    app = QApplication(sys.argv)\n",
        "    MA = MyApp()\n",
        "    MA.show()\n",
        "    sys.exit(app.exec_()) #exec이 무한루프로 작성, 종료되면 0을 리턴 exit는 0을받고 루프 탈퇴\n"
      ],
      "execution_count": null,
      "outputs": []
    },
    {
      "cell_type": "code",
      "metadata": {
        "id": "WrvvqHRMYDX3"
      },
      "source": [
        ""
      ],
      "execution_count": null,
      "outputs": []
    }
  ]
}